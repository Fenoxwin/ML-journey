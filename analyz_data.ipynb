{
 "cells": [
  {
   "cell_type": "code",
   "id": "initial_id",
   "metadata": {
    "collapsed": true
   },
   "source": [
    "import pandas as pd\n",
    "import matplotlib.pyplot as plt\n",
    "df = pd.read_csv('C:\\\\Users\\\\vanys\\\\Downloads\\\\train.csv')"
   ],
   "outputs": [],
   "execution_count": null
  },
  {
   "metadata": {},
   "cell_type": "code",
   "source": [
    "survived_by_sex = df.groupby('Sex')['Survived'].sum()\n",
    "print(\"количество выживших:\")\n",
    "print(survived_by_sex)"
   ],
   "id": "d8aa26ca70b1fecd",
   "outputs": [],
   "execution_count": null
  },
  {
   "metadata": {},
   "cell_type": "code",
   "source": [
    "df['Age'] = df['Age'].fillna(df['Age'].mean())\n",
    "average_age_by_class = df.groupby('Pclass')['Age'].mean().round(2)\n",
    "print(\"\\nСредний возраст по классам:\")\n",
    "print(average_age_by_class)"
   ],
   "id": "8de8ab4d0dbb058c",
   "outputs": [],
   "execution_count": null
  },
  {
   "metadata": {},
   "cell_type": "code",
   "source": [
    "plt.figure(figsize = (10,6))\n",
    "df['Age'].hist(bins = 20, color = 'skyblue')\n",
    "plt.title('Распределение возрастов пассажиров')\n",
    "plt.xlabel('Возраст')\n",
    "plt.ylabel('Количество')\n",
    "plt.grid(axis = 'y', alpha = 0.5)\n",
    "plt.show()"
   ],
   "id": "146e3a4835f5a980",
   "outputs": [],
   "execution_count": null
  }
 ],
 "metadata": {
  "kernelspec": {
   "display_name": "Python 3",
   "language": "python",
   "name": "python3"
  },
  "language_info": {
   "codemirror_mode": {
    "name": "ipython",
    "version": 2
   },
   "file_extension": ".py",
   "mimetype": "text/x-python",
   "name": "python",
   "nbconvert_exporter": "python",
   "pygments_lexer": "ipython2",
   "version": "2.7.6"
  }
 },
 "nbformat": 4,
 "nbformat_minor": 5
}
